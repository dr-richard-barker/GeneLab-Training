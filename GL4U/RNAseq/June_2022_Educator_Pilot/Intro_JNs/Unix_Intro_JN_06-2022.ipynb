{
 "cells": [
  {
   "cell_type": "markdown",
   "metadata": {
    "jp-MarkdownHeadingCollapsed": true,
    "tags": []
   },
   "source": [
    "# Short Introduction to Unix Commands\n",
    "\n",
    "> **This Jupyter Notebook (JN) was built as a SJSU/GeneLab collaboration to introduce students to running Unix commands within a Jupyter environment. Many of the foundational bioinformatics methods are run through a Unix shell, including most of the RNA sequence data processing tools we will run in the Fastq to Counts JN.**  \n",
    "\n",
    "---"
   ]
  },
  {
   "cell_type": "markdown",
   "metadata": {
    "tags": []
   },
   "source": [
    "# Table of Contents\n",
    "\n",
    "* [0. What is Unix?](#zero)\n",
    "* [1. Running Unix commands in a simulated command line](#one)\n",
    "    * [1a. Open a terminal window](#terminal)\n",
    "    * [1b. Run Unix commands in the terminal environment](#commands)\n",
    "        * [date](#date)\n",
    "        * [head](#head)\n",
    "* [2. Running Unix commands in a Jupyter Notebook](#two)\n",
    "    * [2a. Useful Unix commands and functions](#more)\n",
    "        * [pwd](#pwd)\n",
    "        * [ls](#ls)\n",
    "        * [mkdir](#mkdir)\n",
    "        * [cd](#cd)\n",
    "        * [cp](#cp)\n",
    "        * [mv](#mv)\n",
    "        * [cat](#cat)\n",
    "        * [Assign variables in Unix](#variables)"
   ]
  },
  {
   "cell_type": "markdown",
   "metadata": {},
   "source": [
    "<a class=\"anchor\" id=\"zero\"></a>\n",
    "\n",
    "## 0. What is Unix? "
   ]
  },
  {
   "cell_type": "markdown",
   "metadata": {},
   "source": [
    "Unix is an environment in which we interact with the computer by typing and reading text. The computer needs the commands that you type to follow a very specific format, or language. We will be using this language in the Unix environment for the commands we send the computer in this notebook and in the \"Fastq to Counts\" RNA Sequencing processing notebook you will run later.  "
   ]
  },
  {
   "cell_type": "markdown",
   "metadata": {},
   "source": [
    "<a class=\"anchor\" id=\"one\"></a>\n",
    "\n",
    "## 1. Running Unix commands in a simulated command line"
   ]
  },
  {
   "cell_type": "markdown",
   "metadata": {},
   "source": [
    "The most common way to run Unix commands is using a command line or Terminal. We're going to do that first, before learning how to run those commands in a JN.\n",
    "\n",
    "To learn about running commands in a command line/Terminal, we're going to use part of an [awesome Unix tutorial](https://astrobiomike.github.io/unix/getting-started) written by Mike Lee at GeneLab. \n",
    "\n",
    "**[Step 1b](#commands) has been borrowed directly from Mike's tutorial, with minor modifications.**"
   ]
  },
  {
   "cell_type": "markdown",
   "metadata": {},
   "source": [
    "<a class=\"anchor\" id=\"terminal\"></a>\n",
    "\n",
    "## 1a. Open a terminal window\n",
    "\n",
    "- Click on the blue button with the `+` sign at the top left corner of this webpage to open a launcher window. \n",
    "- In the launcher window, scroll down to the `Other` section and click on the `Terminal` icon.\n",
    "  > The window that opens is very similar to the command line or Terminal available on a computer running Unix."
   ]
  },
  {
   "cell_type": "markdown",
   "metadata": {},
   "source": [
    "<a class=\"anchor\" id=\"commands\"></a>\n",
    "\n",
    "## 1b. Run Unix commands in the terminal environment\n",
    "\n",
    "Next, we will learn about the syntax of commands and their arguments, as well as two important commands: `date` and `head` by following the instructions below, pulled from Mike's tutorial section \"Running commands\". \n",
    "\n",
    "<a class=\"anchor\" id=\"date\"></a>\n",
    "#### date\n",
    "In the terminal window, we will run the `date` command, which is a command that prints out the date and time. \n",
    "> Note: This particular command does not require any arguments. \n",
    "\n",
    "Copy and paste the following command in the terminal window:  \n",
    "`date`\n",
    "\n",
    "When we run `date` with no arguments, it uses some default settings, like assuming we want to know the time in the computer’s local time zone. \n",
    "\n",
    ">**What time zone is this compute system set to?**\n",
    "\n",
    "We can provide optional arguments to `date`. Optional arguments most often require putting a dash in front of them in order for the program to interpret them properly. Next, we will add the `-R` argument to tell `date` to report the time in RFC 5322 format instead of the current format:\n",
    "\n",
    "Copy and paste the following command in the terminal window:  \n",
    "`date -R`  \n",
    "\n",
    "Now try running the same command in the terminal window but without the dash:  \n",
    "`date R`  \n",
    "> Note: This gives an error.\n",
    "\n",
    "What if we run the command with the dash but without the space?  \n",
    "`date-R`\n",
    "> This gives a different error because without the \"space\" separating `date` and the optional argument `-R`, the computer doesn't know how to break apart the command.\n",
    ">\n",
    "> Notice that the first error is from the program `date` and it doesn't know what to do with the letter `R`. Whereas the second error is from `bash`, the language we are working in, because it's trying to find a program called \"date-R\" since we didn't tell it how to properly break things apart.\n",
    "\n",
    "<br>\n",
    "\n",
    "<a class=\"anchor\" id=\"head\"></a>\n",
    "#### head\n",
    "Unlike `date`, most commands require arguments and won’t work without them. `head` is a command that prints the first few lines of a file, so it requires us to provide the file we want it to act on.\n",
    "\n",
    "Copy and paste the following command in the terminal window:  \n",
    "`head example.txt`\n",
    "\n",
    "In this command, \"example.txt\" is the required argument and in this case it is also what’s known as a **positional** argument. Whether things need to be provided as positional arguments or not depends on how the command or program we are using was written. Sometimes we need to specify the input file by putting something in front of it (ex. some commands will use the `-i` flag, but it’s often other things as well).\n",
    "\n",
    ">**Look at the output of the `head example.txt` command in the terminal window and answer the following question:**  \n",
    ">* How many lines does the `head` command print by default?\n",
    "\n",
    "There are also optional arguments for the `head` command. The default for `head` is to print the first 10 lines of a file. We can change that by specifying the `-n` flag, followed by how many lines we want.\n",
    "\n",
    "Copy and paste the following command in the terminal window:  \n",
    "`head -n 5 example.txt`  \n",
    "\n",
    "How would we know we needed the `-n` flag for that? There are a few ways to find out. Many standard Unix commands and other programs will have built-in help menus that we can access by providing `-h` or `--help` as the only argument.\n",
    "\n",
    "Let's try to access the help menu for `head` by running the following command in the terminal window:  \n",
    "`head -h`  \n",
    "\n",
    ">**Look at the output of the `head -h` command in the terminal window and answer the following question:**  \n",
    ">* Is `-h` a valid option for the `head` command? How do you know?\n",
    "\n",
    "Let's try to access the help menu for `head` again, but this time with the `--help` argument by running the following command in the terminal window:  \n",
    "`head --help` \n",
    "\n",
    "We can also always use an internet search engine to look for the help menu. This is one of the parts that is not about memorization at all. We might remember a few flags or specific options if we happen to use them a lot, but searching for options and details when needed is definitely the norm! \n",
    "\n"
   ]
  },
  {
   "cell_type": "markdown",
   "metadata": {},
   "source": [
    "<a class=\"anchor\" id=\"two\"></a>\n",
    "\n",
    "## 2. Running Unix commands in Jupyter Notebook"
   ]
  },
  {
   "cell_type": "markdown",
   "metadata": {},
   "source": [
    "Now that we know how to run commands and provide arguments in the Terminal, let's learn how to run those commands in a JN.\n",
    "\n",
    "This JN is running in a Python kernel, which means that each cell in this notebook is expecting commands written in the Python language. However, we can convert commands from Python to Unix by adding an exclamation point `!` in front of them with no space.\n",
    "\n",
    "Try running the next two cells, which have the same `head example.txt` command from Mike's tutorial, with and without the exclamation point."
   ]
  },
  {
   "cell_type": "code",
   "execution_count": null,
   "metadata": {
    "scrolled": true
   },
   "outputs": [],
   "source": [
    "head example.txt"
   ]
  },
  {
   "cell_type": "markdown",
   "metadata": {},
   "source": [
    "`SyntaxError` is an error from the Python language, telling us that the command we ran was not written correctly in Python.\n",
    "\n",
    "Let's try running the same command again but with the `!` at the beginning to let Python know we are running a Unix command."
   ]
  },
  {
   "cell_type": "code",
   "execution_count": null,
   "metadata": {},
   "outputs": [],
   "source": [
    "!head example.txt"
   ]
  },
  {
   "cell_type": "markdown",
   "metadata": {},
   "source": [
    "With the exclamation point added, the command runs correctly, as if it were being run from a command line or Terminal. \n",
    "\n",
    "We will use this conversion method in the JNs we will be running to process RNA sequence data.\n",
    "\n",
    "What would you add to the `head` command to view the first 13 lines of the example.txt file? Go ahead and add it into the command below and press run."
   ]
  },
  {
   "cell_type": "code",
   "execution_count": null,
   "metadata": {},
   "outputs": [],
   "source": [
    "!head example.txt"
   ]
  },
  {
   "cell_type": "markdown",
   "metadata": {},
   "source": [
    "Did it work? "
   ]
  },
  {
   "cell_type": "markdown",
   "metadata": {},
   "source": [
    "<a class=\"anchor\" id=\"more\"></a>\n",
    "\n",
    "## 2a. Useful Unix commands\n",
    "\n",
    "If you want to list a command but not allow the command to run, you can add a `#` at the beginning of the line in your code block that you don't want to run.\n",
    ">Note: This is not specific to Unix, it can also be applied to most coding languages."
   ]
  },
  {
   "cell_type": "markdown",
   "metadata": {},
   "source": [
    "<a class=\"anchor\" id=\"pwd\"></a>\n",
    "#### pwd\n",
    "Remember that when you are working in a Unix environment, you are always working in one location, or directory. We call this your \"current\", or \"working\" directory. The `pwd` command, which stands for \"print working directory\", will print the path to your current or working directory. For example, if you are currently in your Desktop directory, the `pwd` command will return: \n",
    "\n",
    "`/Users/YourName/Desktop`\n",
    "\n",
    "Try running `pwd` in the next cell to print your current directory. Remember to add `!` before the command since you are working in a Python JN."
   ]
  },
  {
   "cell_type": "code",
   "execution_count": null,
   "metadata": {
    "scrolled": true
   },
   "outputs": [],
   "source": []
  },
  {
   "cell_type": "markdown",
   "metadata": {},
   "source": [
    "Where are you located within the cluster?"
   ]
  },
  {
   "cell_type": "markdown",
   "metadata": {},
   "source": [
    "<a class=\"anchor\" id=\"ls\"></a>\n",
    "#### ls\n",
    "\n",
    "The `ls` command lists all files in the current working directory. \n",
    "\n",
    "Try the `ls` command in the next cell to list all the files in your current (home) directory. Don't forget to add `!` before the command."
   ]
  },
  {
   "cell_type": "code",
   "execution_count": null,
   "metadata": {},
   "outputs": [],
   "source": []
  },
  {
   "cell_type": "markdown",
   "metadata": {},
   "source": [
    "Did you notice any familiar files? \n",
    "\n",
    "You should have noticed the example.txt file we used when working with the `head` command above. We will also be using the Saturn.txt file in this tutorial and the example.csv file in the R Intro JN later in the bootcamp.\n",
    "\n",
    "\n",
    "Run the `ls` command in the next cell so that the files are listed in a single column. \n",
    "\n",
    "Hint: The `-1` option will only allow one file to be printed per line. Remember to add `!` before the command."
   ]
  },
  {
   "cell_type": "code",
   "execution_count": null,
   "metadata": {},
   "outputs": [],
   "source": []
  },
  {
   "cell_type": "markdown",
   "metadata": {},
   "source": [
    "If the hint above was not provided, what command or `ls` option(s) could you have run to know what the availalbe options (aka flags) are for the `ls` command?\n",
    "\n",
    "Use the next few code blocks to try out some commands:"
   ]
  },
  {
   "cell_type": "code",
   "execution_count": null,
   "metadata": {},
   "outputs": [],
   "source": []
  },
  {
   "cell_type": "code",
   "execution_count": null,
   "metadata": {},
   "outputs": [],
   "source": []
  },
  {
   "cell_type": "code",
   "execution_count": null,
   "metadata": {},
   "outputs": [],
   "source": []
  },
  {
   "cell_type": "markdown",
   "metadata": {},
   "source": [
    "<a class=\"anchor\" id=\"mkdir\"></a>\n",
    "#### mkdir\n",
    "The `mkdir` command creates a new folder (aka directory). The new directory is created in your current directory, unless you specify a different path. For example: \n",
    "\n",
    "`mkdir myFolder` will create a folder called myFolder in your current directory. \n",
    "\n",
    "`mkdir /Users/YourName/Desktop/myFolder` will create a folder called myFolder in your Desktop folder. \n",
    "\n",
    "In the next cell, try creating a new directory called `SolarSystem` in your current directory (which we now know is your home directory on the NCCS SMCE system). Then, run `ls` in the cell after that to see if you were successful. Remember to add `!` before each command."
   ]
  },
  {
   "cell_type": "code",
   "execution_count": null,
   "metadata": {},
   "outputs": [],
   "source": []
  },
  {
   "cell_type": "code",
   "execution_count": null,
   "metadata": {},
   "outputs": [],
   "source": []
  },
  {
   "cell_type": "markdown",
   "metadata": {},
   "source": [
    "<a class=\"anchor\" id=\"cd\"></a>\n",
    "#### cd\n",
    "\n",
    "In addition to creating new folders using the command line, you can also navigate to different directories on the command line using the `cd` command. In fact, `cd` stands for \"change directory\".\n",
    "\n",
    "From your current (aka working) directory, you can move into any folders within your working directory by running `cd FolderName`. \n",
    "\n",
    "Use the next cell to navigate into the `SolarSystem` folder you just made. \n",
    ">**NOTE: For the `cd` command only, add `%` before the command instead of `!`.** If you are interested in the difference between `!` and `%`, more information is [here](https://github.com/googlecolab/colabtools/issues/40).\n",
    "\n",
    "Note: If you want to navigate to a directory outside of your current directory, you need to use the full path to that directory. For example, if your current working directory is your Desktop, but you want to go to your Documents directory that is not in your Desktop, you would run this command: `cd /Users/YourName/Documents`"
   ]
  },
  {
   "cell_type": "code",
   "execution_count": null,
   "metadata": {},
   "outputs": [],
   "source": []
  },
  {
   "cell_type": "markdown",
   "metadata": {},
   "source": [
    "Use the next two code blocks (aka cells) to navigate back to your home directory and then to your `SolarSystem` directory again, but this time use the full path to navigate to each directory."
   ]
  },
  {
   "cell_type": "code",
   "execution_count": null,
   "metadata": {},
   "outputs": [],
   "source": []
  },
  {
   "cell_type": "code",
   "execution_count": null,
   "metadata": {},
   "outputs": [],
   "source": []
  },
  {
   "cell_type": "markdown",
   "metadata": {},
   "source": [
    "Use the next cell to see what your working directory is now. Did you successfully navigate to the `SolarSystem` folder?"
   ]
  },
  {
   "cell_type": "code",
   "execution_count": null,
   "metadata": {},
   "outputs": [],
   "source": []
  },
  {
   "cell_type": "markdown",
   "metadata": {},
   "source": [
    "Use the next cell to list all files in your `SolarSystem` folder. What's in there?"
   ]
  },
  {
   "cell_type": "code",
   "execution_count": null,
   "metadata": {},
   "outputs": [],
   "source": []
  },
  {
   "cell_type": "markdown",
   "metadata": {},
   "source": [
    "<a class=\"anchor\" id=\"cp\"></a>\n",
    "#### cp\n",
    "\n",
    "Let's copy some files into your `SolarSystem` folder using the `cp` command, which stands for \"copy\". To run this command, you first provide `cp` with the location and name of the existing file that you want to copy followed by the location where you want to copy the file. \n",
    "\n",
    "For example, if you want to copy the file called `Saturn.txt` from your home directory to your `SolarSystem` folder, the command looks like this: `cp /home/jovyan/Saturn.txt /home/jovyan/SolarSystem/`.\n",
    "\n",
    "Note: There are several built-in shortcuts in Unix to navigate throughout your directory structure. Some of these shortcuts are listed below for you to start using in this tutorial:\n",
    ">`~` is a shortcut for your home directory \n",
    ">\n",
    ">`.` is a shortcut for your current (aka working) directory \n",
    ">\n",
    ">`..` is a shortcut to indicate the directory above your current directory\n",
    "\n",
    "Let's use these shortcuts to copy the `Saturn.txt` file from your home directory to your `SolarSystem` folder. Remember that your current directory is your `SolarSystem` folder and one directory above that is your home directory."
   ]
  },
  {
   "cell_type": "code",
   "execution_count": null,
   "metadata": {},
   "outputs": [],
   "source": [
    "!cp ../Saturn.txt ."
   ]
  },
  {
   "cell_type": "markdown",
   "metadata": {},
   "source": [
    "Use the next cell to list all files in your current directory, which should be your `SolarSystem` folder. Is the `Saturn.txt` file there?"
   ]
  },
  {
   "cell_type": "code",
   "execution_count": null,
   "metadata": {
    "scrolled": true
   },
   "outputs": [],
   "source": []
  },
  {
   "cell_type": "markdown",
   "metadata": {},
   "source": [
    "What are some other ways you could have written the `cp` command to copy the `Saturn.txt` file from your home directory to your `SolarSystem` folder?\n",
    "\n",
    "Notice that the name of the file you just copied stayed the same when you copied it into your `SolarSystem` folder. This is because you provided the location for copying the file, but did not specify a file name. If you wanted to change the name of the file to `Saturn_copy.txt` when you copied it, the command would have looked like this: `cp ../Saturn.txt ./Saturn_copy.txt`.\n",
    "\n",
    "You can also copy a file within the same directory as long as you indicate a different file name, for example: `cp Saturn.txt Saturn_copy.txt`. \n",
    "\n",
    "**WARNING:** If you try to copy to a filename that is already in use in that directory, `cp` will overwrite the existing file without automatically warning you. \n",
    "\n",
    "In the next cell, try using `cp` to make a copy of the `Saturn.txt` file, and name the copy `Saturn_copy.txt`. Then, run `ls` in the cell after that to see if you were successful. Remember to add `!` before each command.\n"
   ]
  },
  {
   "cell_type": "code",
   "execution_count": null,
   "metadata": {},
   "outputs": [],
   "source": []
  },
  {
   "cell_type": "code",
   "execution_count": null,
   "metadata": {},
   "outputs": [],
   "source": []
  },
  {
   "cell_type": "markdown",
   "metadata": {},
   "source": [
    "<a class=\"anchor\" id=\"mv\"></a>\n",
    "#### mv\n",
    "\n",
    "The `mv` command, which stands for \"move\", can either rename or move an existing file. \n",
    "\n",
    "*To rename*: If you supply `mv` with the name of an existing file followed by a new filename, the existing file will be renamed to the new filename. For example: `mv Saturn_copy.txt Mars.txt` will rename `Saturn_copy.txt` to `Mars.txt`.\n",
    "\n",
    "**WARNING:** Make sure you use a unique filename when renaming your file. If you have an existing file with the same name, `mv` will overwrite the existing file without warning you first.\n",
    "\n",
    "In the next couple cells, try using `mv` to rename your `Saturn_copy.txt` to `Mars.txt`. Then, use `ls` to see if you were successful. Remember to add `!` before each command."
   ]
  },
  {
   "cell_type": "code",
   "execution_count": null,
   "metadata": {},
   "outputs": [],
   "source": []
  },
  {
   "cell_type": "code",
   "execution_count": null,
   "metadata": {},
   "outputs": [],
   "source": []
  },
  {
   "cell_type": "markdown",
   "metadata": {},
   "source": [
    "*To move*: If you supply `mv` with the name of an existing file followed by an existing directory, the file will be moved into that directory. For example: `mv Mars.txt ..` will move `Mars.txt` into the directory above your current directory. If you want to move your file to a location somewhere other than the directory above your working directory, you can pass the full path to `mv`. For example: `mv Mars.txt /Users/YourName/Desktop/myDirectory` will move `Mars.txt` to the `myDirectory` folder on your Desktop.\n",
    "\n",
    "Before we test this application of the `mv` function, use the next cell to look at the `mv` help menu."
   ]
  },
  {
   "cell_type": "code",
   "execution_count": null,
   "metadata": {},
   "outputs": [],
   "source": []
  },
  {
   "cell_type": "markdown",
   "metadata": {},
   "source": [
    "In the next couple of cells, use `mv` to move `Mars.txt` into your home directory, which is one directory above your current directory (`SolarSystem`). Then use `ls` to see if you were successful. "
   ]
  },
  {
   "cell_type": "code",
   "execution_count": null,
   "metadata": {},
   "outputs": [],
   "source": []
  },
  {
   "cell_type": "code",
   "execution_count": null,
   "metadata": {},
   "outputs": [],
   "source": []
  },
  {
   "cell_type": "markdown",
   "metadata": {},
   "source": [
    "If you successfully moved `Mars.txt` into your home directory, you should no longer see it in your current directory (`SolarSystem`) when you run `ls`.\n",
    "\n",
    "Use the next 3 cells to \n",
    "1) navigate to your home directory (**don't forget that cd requires `%` before it**)\n",
    "\n",
    "2) print your working directory to make sure you are now in your home directory\n",
    "\n",
    "3) list all files in your home directory\n",
    "\n",
    "Don't forget to add `!` before each command (except `cd`)."
   ]
  },
  {
   "cell_type": "code",
   "execution_count": null,
   "metadata": {},
   "outputs": [],
   "source": []
  },
  {
   "cell_type": "code",
   "execution_count": null,
   "metadata": {},
   "outputs": [],
   "source": []
  },
  {
   "cell_type": "code",
   "execution_count": null,
   "metadata": {},
   "outputs": [],
   "source": []
  },
  {
   "cell_type": "markdown",
   "metadata": {},
   "source": [
    "Do you see the `Mars.txt` file that you copied in your home directory?"
   ]
  },
  {
   "cell_type": "markdown",
   "metadata": {},
   "source": [
    "<a class=\"anchor\" id=\"cat\"></a>\n",
    "#### cat\n",
    "\n",
    "Let's take a look at the files we've been copying and moving around using the `cat` command, which stands for \"concatenate\". You already have experience using `head` to view the first several lines of a file. Sometimes, it is useful to view the entire file. The `cat` command will print the full contents of a file. For example, `cat Saturn.txt` will print everything in the `Saturn.txt` file. \n",
    "\n",
    "In the next cell, use `cat` to view the full contents of the `Saturn.txt` file. \n",
    "\n",
    "Then, check that the contents of the `Mars.txt` file. Since `Mars.txt` is a copy of `Saturn.txt`, they should be the same. "
   ]
  },
  {
   "cell_type": "code",
   "execution_count": null,
   "metadata": {},
   "outputs": [],
   "source": []
  },
  {
   "cell_type": "code",
   "execution_count": null,
   "metadata": {},
   "outputs": [],
   "source": []
  },
  {
   "cell_type": "markdown",
   "metadata": {},
   "source": [
    "Let's take a look at some of the other files in your home directory with `cat`.\n",
    "\n",
    "In the next cell, use `cat` to see how many lines are in the `example.txt` file. \n"
   ]
  },
  {
   "cell_type": "code",
   "execution_count": null,
   "metadata": {},
   "outputs": [],
   "source": []
  },
  {
   "cell_type": "markdown",
   "metadata": {},
   "source": [
    "Thus far, we've been using `cat` to view files in our current directory. However, if you want to open a file that is not in your current directory, simply provide `cat` the path to the file you want to view. For example: `cat /home/jovyan/Mars.txt` \n",
    "\n",
    "Use the next cell to look at the `Saturn.txt` file that's in your `SolarSystem` folder."
   ]
  },
  {
   "cell_type": "code",
   "execution_count": null,
   "metadata": {},
   "outputs": [],
   "source": []
  },
  {
   "cell_type": "markdown",
   "metadata": {},
   "source": [
    "<a class=\"anchor\" id=\"variables\"></a>\n",
    "#### Assign variables in Unix\n",
    "\n",
    "In most programming languages, including Unix, we use **variables** to store information. Variables are named objects which refer to data stored in memory. In Unix, we use the `=` operator to assign information to a variable. Remember that it is very important to choose informative, memorable and short variable names.\n",
    "\n",
    "For example, in the next cell, we are going to use the variable `SSdir` to create a variable for the path to our `SolarSystem` directory."
   ]
  },
  {
   "cell_type": "code",
   "execution_count": null,
   "metadata": {},
   "outputs": [],
   "source": [
    "SSdir=\"/home/jovyan/SolarSystem\""
   ]
  },
  {
   "cell_type": "code",
   "execution_count": null,
   "metadata": {},
   "outputs": [],
   "source": []
  },
  {
   "cell_type": "markdown",
   "metadata": {},
   "source": [
    "To call a variable in Unix, you have to add a `$` infront of the variable name. In the cell below we will print the `SSdir` variable we created using the `echo` command:"
   ]
  },
  {
   "cell_type": "code",
   "execution_count": null,
   "metadata": {},
   "outputs": [],
   "source": [
    "!echo $SSdir"
   ]
  },
  {
   "cell_type": "markdown",
   "metadata": {},
   "source": [
    "Since we created the `SSdir` variable to hold the path to our `SolarSystem` folder, we can now call that variable to navigate to our `SolarSystem` folder. Use the next few cells to do the following:\n",
    "1. Navigate to your `SolarSystem` folder using the `SSdir` variable \n",
    "2. Print your working directory to see if you successfully navigated to your `SolarSystem` folder\n",
    "3. List the contents of your `SolarSystem` folder"
   ]
  },
  {
   "cell_type": "code",
   "execution_count": null,
   "metadata": {},
   "outputs": [],
   "source": []
  },
  {
   "cell_type": "code",
   "execution_count": null,
   "metadata": {},
   "outputs": [],
   "source": []
  },
  {
   "cell_type": "code",
   "execution_count": null,
   "metadata": {},
   "outputs": [],
   "source": []
  },
  {
   "cell_type": "markdown",
   "metadata": {},
   "source": [
    "**Note:** The variables you create in this manner are temporary and will only exist for your current JN (or command line) instance. Once you log off, your variables will be wiped from memory.\n",
    "\n",
    "Now that you have been introduced to some of the most common Unix commands, use the next several cells to practicing using these commands and answer the following questions:\n",
    "\n",
    "Can you open up a directory with `cat`?\n",
    "\n",
    "What happens if you rename a file to a filename that's already in use in the same directory?\n",
    "\n",
    "What happens if you rename a file to a filename that's already in use in the same directory but when you rename the file, you also move it to a different directory?\n",
    ">Use the `SSdir` variable you created to navigate and move files to your `SolarSystem` folder\n",
    "\n",
    "What are the options for the `cat` command? Hint: use the `--help` option you learned in Mike's tutorial in step 1 above."
   ]
  },
  {
   "cell_type": "code",
   "execution_count": null,
   "metadata": {},
   "outputs": [],
   "source": []
  },
  {
   "cell_type": "code",
   "execution_count": null,
   "metadata": {},
   "outputs": [],
   "source": []
  },
  {
   "cell_type": "code",
   "execution_count": null,
   "metadata": {},
   "outputs": [],
   "source": []
  },
  {
   "cell_type": "code",
   "execution_count": null,
   "metadata": {},
   "outputs": [],
   "source": []
  },
  {
   "cell_type": "code",
   "execution_count": null,
   "metadata": {},
   "outputs": [],
   "source": []
  },
  {
   "cell_type": "code",
   "execution_count": null,
   "metadata": {},
   "outputs": [],
   "source": []
  },
  {
   "cell_type": "code",
   "execution_count": null,
   "metadata": {},
   "outputs": [],
   "source": []
  }
 ],
 "metadata": {
  "kernelspec": {
   "display_name": "Python [conda env:gl4u]",
   "language": "python",
   "name": "conda-env-gl4u-py"
  },
  "language_info": {
   "codemirror_mode": {
    "name": "ipython",
    "version": 3
   },
   "file_extension": ".py",
   "mimetype": "text/x-python",
   "name": "python",
   "nbconvert_exporter": "python",
   "pygments_lexer": "ipython3",
   "version": "3.9.9"
  },
  "toc": {
   "base_numbering": 1,
   "nav_menu": {},
   "number_sections": false,
   "sideBar": true,
   "skip_h1_title": false,
   "title_cell": "Table of Contents",
   "title_sidebar": "Contents",
   "toc_cell": false,
   "toc_position": {},
   "toc_section_display": true,
   "toc_window_display": false
  }
 },
 "nbformat": 4,
 "nbformat_minor": 4
}
