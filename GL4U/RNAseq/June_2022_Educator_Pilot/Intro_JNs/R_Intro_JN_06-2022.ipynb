{
 "cells": [
  {
   "cell_type": "markdown",
   "metadata": {},
   "source": [
    "# Short Introduction to R Commands\n",
    "\n",
    "> **This Jupyter Notebook (JN) was built as a SJSU/GeneLab collaboration to introduce students to running R commands within a Jupyter environment. Many essential bioinformatics tools are written and run in the R language, including the tools we will use for differential gene expression analysis of RNA sequence data.**  \n",
    "\n",
    "---"
   ]
  },
  {
   "cell_type": "markdown",
   "metadata": {},
   "source": [
    "# Table of Contents\n",
    "\n",
    "* [0. What is R?](#zeroR)\n",
    "* [1. Introduction to programming in R](#oneR)\n",
    "    * [1a. Install and load packages/libraries in R](#lib)\n",
    "    * [1b. Define locations and assign variables in R](#variable)\n",
    "    * [1c. Loading and viewing a data file in R](#file)\n",
    "        * [help()](#help)\n",
    "        * [read.csv()](#read)\n",
    "        * [head()](#headR)\n",
    "        * [dim()](#dim)\n",
    "        * [summary()](#summary)\n",
    "    * [1d. Data frame manipulations](#df)\n",
    "        * [Add a value to all cells](#dfadd)\n",
    "        * [Take the log of all cells](#dflog)\n",
    "        * [Convert data frame to contain only integers](#dfint)\n",
    "        * [Slice a data frame column](#dfcol)\n",
    "        * [Slice a data frame row](#dfrow)\n",
    "        * [Filter data in a data frame](#dffilter)\n",
    "        * [Add columns to a data frame](#dfmore)\n",
    "        * [Combine data frames](#dfcombine)\n",
    "    * [1e. Export data from R](#export)\n",
    "    * [1f. Visualizations](#viz)"
   ]
  },
  {
   "cell_type": "markdown",
   "metadata": {},
   "source": [
    "<a class=\"anchor\" id=\"zeroR\"></a>\n",
    "\n",
    "# 0. What is R?\n",
    "\n",
    "R is a programming language designed specifically for statistical analysis and computing. R has many bioinformatic libraries for statistical analysis, as well as for data visualization.\n",
    "\n",
    "This Jupyter Notebook (JN) is running an R kernel, which means that each cell is designed to interpret and run commands written in the R language. A JN cannot run both an R kernel and a Python kernel at the same time.\n",
    "\n",
    "Which language did we use when running Unix commands in the previous JN? "
   ]
  },
  {
   "cell_type": "markdown",
   "metadata": {},
   "source": [
    "<a class=\"anchor\" id=\"oneR\"></a>\n",
    "\n",
    "# 1. Introduction to programming in R"
   ]
  },
  {
   "cell_type": "markdown",
   "metadata": {},
   "source": [
    "<a class=\"anchor\" id=\"lib\"></a>\n",
    "\n",
    "## 1a. Install and load packages/libraries in R\n",
    "\n",
    "A R library, or package, is a collection of functions, compiled code, and sample data. Some R packages are installed automatically with the base R installation. But there are hundreds of packages that do not come with the base installation. If you want to use one of these packages, you can install it using the `install.packages()` function and then load it using the `library()` function. \n",
    "\n",
    "For example, the following is the syntax to install the BiocManager package, which is then itself used to install any package from the Bioconductor suite.\n",
    "\n",
    "`install.packages(\"BiocManager\")`\n",
    "\n",
    "Bioconductor packages including DESeq2, which we will use for differential gene expression analysis, are installed using the BiocManager `install()` function (instead of the R basic `install.packages()` function) and loaded using the R `library()` function as shown in the example below: \n",
    "\n",
    "`BiocManager::install(\"DESeq2\")`\n",
    "\n",
    "`library(DESeq2)`"
   ]
  },
  {
   "cell_type": "markdown",
   "metadata": {},
   "source": [
    "<a class=\"anchor\" id=\"variable\"></a>\n",
    "\n",
    "## 1b. Define locations and assign variables in R\n",
    "\n",
    "#### getwd() and setwd()\n",
    "\n",
    "The `getwd()` function in R stands for \"get working directory\". This function lists your current working directory, and is similar to the `pwd` command in Unix. \n",
    "\n",
    "The `setwd()` function in R stands for \"set working directory\". This function allows you to change your current working directory, and is similar to the `cd` command in Unix.\n",
    "\n",
    "Let's run `getwd()` in the next cell to print your current working directory."
   ]
  },
  {
   "cell_type": "code",
   "execution_count": null,
   "metadata": {},
   "outputs": [],
   "source": [
    "getwd()"
   ]
  },
  {
   "cell_type": "markdown",
   "metadata": {},
   "source": [
    "Where are you located within the cluster?\n",
    "\n",
    "Notice that the output of `getwd()` has quotation marks around it. That is because R is treating the path as a **string**, which is a one-dimensional array of characters that only represents the textual information contained between the quotation marks.\n",
    "\n",
    "For example, 'Sally Ride was the first female American astronaut to go into space on June 18, 1983' is a string. \n",
    "\n",
    "In the next cell, try running `setwd()` to change your current working directory to the `SolarSystem` folder you made in the Unix Intro JN (hint: the `SolarSystem` folder is located in your home directory). Then, run `getwd()` to check if you were successful. \n",
    "- Remember that R expects paths as **strings**, so be sure to pass your path to `setwd()` as a string."
   ]
  },
  {
   "cell_type": "code",
   "execution_count": null,
   "metadata": {},
   "outputs": [],
   "source": []
  },
  {
   "cell_type": "code",
   "execution_count": null,
   "metadata": {},
   "outputs": [],
   "source": []
  },
  {
   "cell_type": "markdown",
   "metadata": {},
   "source": [
    "Next, use `setwd()` to change your working directory back to your home directory, then use `getwd()` to check if you navigated back successfully."
   ]
  },
  {
   "cell_type": "code",
   "execution_count": null,
   "metadata": {},
   "outputs": [],
   "source": []
  },
  {
   "cell_type": "code",
   "execution_count": null,
   "metadata": {},
   "outputs": [],
   "source": []
  },
  {
   "cell_type": "markdown",
   "metadata": {},
   "source": [
    "#### Assign variables in R\n",
    "\n",
    "In most programming languages, including R, we use **variables** to store information. Variables are named objects which refer to data stored in memory. In R, we use the `<-` operator to assign information to a variable. Remember that it is very important to choose informative, memorable and short variable names.\n",
    "\n",
    "For example, in the next cell, we are going to use the variable `x` to refer to the result of the equation `2+4`."
   ]
  },
  {
   "cell_type": "code",
   "execution_count": null,
   "metadata": {},
   "outputs": [],
   "source": [
    "x <- 2+4"
   ]
  },
  {
   "cell_type": "markdown",
   "metadata": {},
   "source": [
    "We can access the data stored in the variable `x` using the function `print()`:"
   ]
  },
  {
   "cell_type": "code",
   "execution_count": null,
   "metadata": {},
   "outputs": [],
   "source": [
    "print(x)"
   ]
  },
  {
   "cell_type": "markdown",
   "metadata": {},
   "source": [
    "One of the cool things about the Jupyter environment is that the `print()` function is built-in, and we can access data stored in a variable simply by typing the variable name into a cell and running it:"
   ]
  },
  {
   "cell_type": "code",
   "execution_count": null,
   "metadata": {},
   "outputs": [],
   "source": [
    "x"
   ]
  },
  {
   "cell_type": "markdown",
   "metadata": {},
   "source": [
    "We can use variables to hold paths to locations so that we don't have to type out the path every time. Run the cell below to assign your home directory to the `homeDir` variable. We chose the `homeDir` variable as a short representation of the phrase \"home directory\"."
   ]
  },
  {
   "cell_type": "code",
   "execution_count": null,
   "metadata": {},
   "outputs": [],
   "source": [
    "homeDir <- '/home/jovyan'"
   ]
  },
  {
   "cell_type": "markdown",
   "metadata": {},
   "source": [
    "Use the next cell to print the content of the `homeDir` variable. Did you assign your variable successfully?"
   ]
  },
  {
   "cell_type": "code",
   "execution_count": null,
   "metadata": {},
   "outputs": [],
   "source": []
  },
  {
   "cell_type": "markdown",
   "metadata": {},
   "source": [
    "We can also use variables to store large amounts of data, such as assigning data within a matrix to a variable as you'll see in the next section.\n",
    "\n",
    "**WARNING:** Never name your variable after a common function or a built-in variable in R. For a list of built-in R functions and variables, see \"Appendix D Function and variable index\" of the [R manual](https://cran.r-project.org/doc/manuals/r-release/R-intro.pdf).  "
   ]
  },
  {
   "cell_type": "markdown",
   "metadata": {},
   "source": [
    "<a class=\"anchor\" id=\"file\"></a>\n",
    "\n",
    "## 1c. Loading and viewing a data file in R\n",
    "\n",
    "To begin working with a data file in R, we first have to load (aka read in) the file. How you load the data file in R will depend on the file type. R has several built-in functions for reading in common file types, including .TXT files, .CSV (comma-separated values) files and .TSV (tab-separated-values) files.\n",
    "\n",
    "In this tutorial, we are going to read in a .CSV file.\n",
    "\n",
    "To do this, we will use a R function called `read.csv()`, which is specifically designed to handle data in the .CSV format. This function will create a data frame, which is a very common data structure in R. **Note:** A data frame is similar to a matrix. "
   ]
  },
  {
   "cell_type": "markdown",
   "metadata": {},
   "source": [
    "<a class=\"anchor\" id=\"help\"></a>\n",
    "#### help()\n",
    "\n",
    "Before reading in the .CSV file, we'll use the `help()` function in R to view all possible arguments for the `read.csv()` function. (Note: this is similar to the `--help` option that's used in most Unix commands). \n",
    ">**After you run the `help()` command:** The output from this command is long, so when you are done reading it, you can comment out this command by adding `#` at the beginning of the line, and rerun the cell to hide the output."
   ]
  },
  {
   "cell_type": "code",
   "execution_count": null,
   "metadata": {},
   "outputs": [],
   "source": [
    "help(read.csv)"
   ]
  },
  {
   "cell_type": "markdown",
   "metadata": {},
   "source": [
    "<a class=\"anchor\" id=\"read\"></a>\n",
    "#### read.csv()\n",
    "\n",
    "Notice that to run `read.csv()`, we'll have to provide the function with a set of arguments. These arguments allow you to give R some information about the data in your .CSV file. Each possible argument is separated by a `,` (note: all arguments listed for the `read.table()` function can also be used in the `read.csv()` function). The arguments specified for `read.csv()` are the default argument settings.\n",
    "\n",
    "In this tutorial, we are going to provide `read.csv()` with the following arguments: \n",
    "\n",
    "* `example.csv` – the name of the file we want to read in\n",
    "* `header=TRUE` – this argument specifies that the data starts on the second line of the file and the first line is a header, or column names\n",
    "* `row.names=1` – this argument specifies that the data starts on the second column of the file and the first column contains row names\n",
    "\n",
    "In the next cell, we will read in the `example.csv` file, and store the data frame in the variable `myDF`. We chose the variable `myDF` as a short representation of the phrase \"my data frame\"."
   ]
  },
  {
   "cell_type": "code",
   "execution_count": null,
   "metadata": {},
   "outputs": [],
   "source": [
    "myDF <- read.csv('example.csv', header=TRUE, row.names=1)"
   ]
  },
  {
   "cell_type": "markdown",
   "metadata": {},
   "source": [
    "Since the `example.csv` file is in your home directory, which is also your current working directory, you did not need to specify a path to the file you read in. However, if the file you want to read in is located in a directory other than your working directory, you would have to define the path to the directory that holds your file. \n",
    "\n",
    "If the directory location of the file is held in a variable (as with your home directory in [section 1b](#variable)), you can use the function `file.path()` to construct the path to the file from the directory variable and the filename. \n",
    "\n",
    "For example, since you stored the path to your home directory in the `homeDir` variable, you could have also read in the `example.csv` file using the following syntax: \n",
    "\n",
    "`myDF <- read.csv(file.path(homeDir, 'example.csv'), header=TRUE, row.names=1)`\n",
    "\n",
    "Use the next cell to view the data stored in the `myDF` variable."
   ]
  },
  {
   "cell_type": "code",
   "execution_count": null,
   "metadata": {},
   "outputs": [],
   "source": []
  },
  {
   "cell_type": "markdown",
   "metadata": {},
   "source": [
    "How many columns are in the `myDF` data frame?\n",
    "\n",
    "How many rows?"
   ]
  },
  {
   "cell_type": "markdown",
   "metadata": {},
   "source": [
    "<a class=\"anchor\" id=\"headR\"></a>\n",
    "#### head()\n",
    "\n",
    "Although in this example there is a manageable amount of data in `myDF`, when working with a data frame containing RNA sequence data, viewing all the data may be unfeasible. Thus, similar to the `head` command in Unix, R also has a built-in function to view only a certain number of rows of a data frame or matrix, called `head()`. \n",
    "\n",
    "In the next cell, run `head()` and provide only one argument, the data frame variable."
   ]
  },
  {
   "cell_type": "code",
   "execution_count": null,
   "metadata": {},
   "outputs": [],
   "source": []
  },
  {
   "cell_type": "markdown",
   "metadata": {},
   "source": [
    "How many lines are given with the `head()` command in R? Is this different from the number of lines given with the `head` command in Unix? \n",
    "\n",
    "We can also specify the number of lines we want to view, by providing `head()` with another argument, `n=3`:"
   ]
  },
  {
   "cell_type": "code",
   "execution_count": null,
   "metadata": {},
   "outputs": [],
   "source": [
    "head(myDF, n=3)"
   ]
  },
  {
   "cell_type": "markdown",
   "metadata": {},
   "source": [
    "Use the next cell to print the first 8 rows of the `myDF` data frame."
   ]
  },
  {
   "cell_type": "code",
   "execution_count": null,
   "metadata": {},
   "outputs": [],
   "source": []
  },
  {
   "cell_type": "markdown",
   "metadata": {},
   "source": [
    "<a class=\"anchor\" id=\"dim\"></a>\n",
    "#### dim()\n",
    "\n",
    "R also has a funtion called `dim()` that will allow you to print the dimensions of the data frame without having to print any lines. \n",
    "\n",
    "In the next cell, you will use the `dim()` function to report the *dimensions*, or number of rows and columns, of your `myDF` data frame. "
   ]
  },
  {
   "cell_type": "code",
   "execution_count": null,
   "metadata": {},
   "outputs": [],
   "source": [
    "dim(myDF)"
   ]
  },
  {
   "cell_type": "markdown",
   "metadata": {},
   "source": [
    "Is the row or column dimension reported first?\n",
    "\n",
    "How many rows does `myDF` have? How many columns? "
   ]
  },
  {
   "cell_type": "markdown",
   "metadata": {},
   "source": [
    "<a class=\"anchor\" id=\"summary\"></a>\n",
    "#### summary()\n",
    "\n",
    "To get more information about a loaded data frame without having to print the entire data frame, we can use the `summary()` function in R, which will print a mathematical summary of the data frame. \n",
    "Note: `summary()` can also be used on non-data frame objects to report all the data components contained in the object.\n",
    "\n",
    "Run the `summary()` function in the next cell to view a mathematical summary of your `myDF` data frame."
   ]
  },
  {
   "cell_type": "code",
   "execution_count": null,
   "metadata": {},
   "outputs": [],
   "source": []
  },
  {
   "cell_type": "markdown",
   "metadata": {},
   "source": [
    "Which column contains the highest median value in the data frame, `myDF`? Which column contains the highest overall value?"
   ]
  },
  {
   "cell_type": "markdown",
   "metadata": {},
   "source": [
    "<a class=\"anchor\" id=\"df\"></a>\n",
    "\n",
    "## 1d. Data frame manipulations\n",
    "\n",
    "Much of the data we work with in bioinformatics is in the data frame or matrix format. For example, gene expression data is usually held in matrix format, with samples as columns and genes as rows. Each entry or cell in the matrix contains the expression of a particular gene in a particular sample. \n",
    "\n",
    "When analyzing gene expression data, it can be useful to be able to perform mathematical functions on all cells in a data frame, such as adding a value to all cells or taking the log of all cells. Fortunately, R makes that easy for us to do. \n",
    "\n",
    "Below are some examples of common mathematical manipulations we often perform on data frames in bioinformatics.  "
   ]
  },
  {
   "cell_type": "markdown",
   "metadata": {},
   "source": [
    "<a class=\"anchor\" id=\"dfadd\"></a>\n",
    "#### Add a value to all cells\n",
    "\n",
    "In R, you can add, subtract, multiply, or divide the number in every cell of a data frame by a specific value very easily. Run the command in the next cell to add `1` to every value in your `myDF` data frame."
   ]
  },
  {
   "cell_type": "code",
   "execution_count": null,
   "metadata": {},
   "outputs": [],
   "source": [
    "myDF + 1"
   ]
  },
  {
   "cell_type": "markdown",
   "metadata": {},
   "source": [
    "Use the next cell to subtract 2 from all values in your `myDF` data frame."
   ]
  },
  {
   "cell_type": "code",
   "execution_count": null,
   "metadata": {},
   "outputs": [],
   "source": []
  },
  {
   "cell_type": "markdown",
   "metadata": {},
   "source": [
    "<a class=\"anchor\" id=\"dflog\"></a>\n",
    "#### Take the log of all cells\n",
    "\n",
    "R also has a `log()` function that will allow you to take the log of all values in a data frame. By default, the `log()` function will calculate the natural log. However, you can specify which base you want to use as follows: \n",
    "\n",
    "`log10()` will compute the common logarithm (base 10)\n",
    "\n",
    "`log2()` will compute the binary logarithm (base 2)\n",
    "\n",
    "Run the next cell to compute the natural logarithm of all values in your `myDF` data frame."
   ]
  },
  {
   "cell_type": "code",
   "execution_count": null,
   "metadata": {},
   "outputs": [],
   "source": [
    "log(myDF)"
   ]
  },
  {
   "cell_type": "markdown",
   "metadata": {},
   "source": [
    "Use the next cell to compute the binary logarithm of all values in your `myDF` data frame."
   ]
  },
  {
   "cell_type": "code",
   "execution_count": null,
   "metadata": {},
   "outputs": [],
   "source": []
  },
  {
   "cell_type": "markdown",
   "metadata": {},
   "source": [
    "<a class=\"anchor\" id=\"dfint\"></a>\n",
    "#### Convert data frame to contain only integers\n",
    "\n",
    "Some bioinformatics applications, including the DESeq2 method we will use to perform differential gene expression, require that the input data contain only integers. There is a function in R called `ceiling()` that will round decimal values up to the nearest integer. \n",
    "\n",
    "Run the next cell to test the `ceiling()` function."
   ]
  },
  {
   "cell_type": "code",
   "execution_count": null,
   "metadata": {},
   "outputs": [],
   "source": [
    "ceiling(1.2)"
   ]
  },
  {
   "cell_type": "markdown",
   "metadata": {},
   "source": [
    "Before we test this function on a data frame, we first have to create a data frame that contains decimal values. Note that although the `log()` function was used to print the natural logarithm of all values in your `myDF` data frame, those calculations were not saved in the `myDF` variable.\n",
    "\n",
    "Use the next cell to print the data held in the `myDF` variable. Are the values indeed the same as what we started with?"
   ]
  },
  {
   "cell_type": "code",
   "execution_count": null,
   "metadata": {},
   "outputs": [],
   "source": []
  },
  {
   "cell_type": "markdown",
   "metadata": {},
   "source": [
    "To make changes to your `myDF` variable, the calculations must be assigned to `myDF`. In the following cell, you will subtract 0.3 from all values in your `myDF` data frame and assign the new values back to the `myDF` variable."
   ]
  },
  {
   "cell_type": "code",
   "execution_count": null,
   "metadata": {},
   "outputs": [],
   "source": [
    "myDF <- myDF - 0.3"
   ]
  },
  {
   "cell_type": "markdown",
   "metadata": {},
   "source": [
    "In the next cell, print the data held in the `myDF` variable. Have the values in `myDF` changed?"
   ]
  },
  {
   "cell_type": "code",
   "execution_count": null,
   "metadata": {},
   "outputs": [],
   "source": []
  },
  {
   "cell_type": "markdown",
   "metadata": {},
   "source": [
    "Note: If you want to keep a variable containing the original data in the data frame and also preserve the calculations performed, you can assign the calculations performed on `myDF` to a different variable as follows:\n",
    "`myDFsub <- myDF - 0.3`\n",
    "\n",
    "Now that your `myDF` data frame contains decimal values, use the `ceiling()` function to round all the values in `myDF` up to the nearest integer, and assign the new values back to the `myDF` variable."
   ]
  },
  {
   "cell_type": "code",
   "execution_count": null,
   "metadata": {},
   "outputs": [],
   "source": []
  },
  {
   "cell_type": "markdown",
   "metadata": {},
   "source": [
    "In the next cell, print the data held in the `myDF` variable. How have the values in `myDF` changed?"
   ]
  },
  {
   "cell_type": "code",
   "execution_count": null,
   "metadata": {},
   "outputs": [],
   "source": []
  },
  {
   "cell_type": "markdown",
   "metadata": {},
   "source": [
    "<a class=\"anchor\" id=\"dfcol\"></a>\n",
    "##### Slice a data frame column\n",
    "\n",
    "When analyzing bioinformatics data, you may need to extract only one column from a data frame. To subset a data frame based on column names, we use the bracket `[` operator. This type of operation is also referred to as \"slicing\" the data frame. \n",
    "\n",
    "Run the cell below to slice `column1` of your `myDF` data frame."
   ]
  },
  {
   "cell_type": "code",
   "execution_count": null,
   "metadata": {},
   "outputs": [],
   "source": [
    "myDF['column1']"
   ]
  },
  {
   "cell_type": "markdown",
   "metadata": {},
   "source": [
    "**Challenge:** In the next cell, try subsetting `myDF` to \"column2\", but only view the first 3 rows of the output using `head()`."
   ]
  },
  {
   "cell_type": "code",
   "execution_count": null,
   "metadata": {},
   "outputs": [],
   "source": []
  },
  {
   "cell_type": "markdown",
   "metadata": {},
   "source": [
    "<a class=\"anchor\" id=\"dfrow\"></a>\n",
    "#### Slice a data frame row\n",
    "\n",
    "To subset a data frame based on row names, we again use the bracket `[` operator, but we add a comma after indicating the row name, which lets R know that we are slicing along rows instead of columns.\n",
    "\n",
    "Run the cell below to slice `row1` of your `myDF` data frame."
   ]
  },
  {
   "cell_type": "code",
   "execution_count": null,
   "metadata": {},
   "outputs": [],
   "source": [
    "myDF['row1',]"
   ]
  },
  {
   "cell_type": "markdown",
   "metadata": {},
   "source": [
    "<a class=\"anchor\" id=\"dffilter\"></a>\n",
    "#### Filter data in a data frame \n",
    "\n",
    "When analyzing bioinformatics data, we often need to filter the data to reduce noise. A common filtering method is to remove rows that have all zero values. To do this, we will remove all rows whose values sum to zero using a function called `rowSums()`.\n",
    "\n",
    "First let's calculate the sum of each row in your `myDF` data frame using the `rowSums()` function:"
   ]
  },
  {
   "cell_type": "code",
   "execution_count": null,
   "metadata": {},
   "outputs": [],
   "source": [
    "rowSums(myDF)"
   ]
  },
  {
   "cell_type": "markdown",
   "metadata": {},
   "source": [
    "Next, we'll use the greater than mathematical operator, `>`, to identify which rows have sums greater than zero:"
   ]
  },
  {
   "cell_type": "code",
   "execution_count": null,
   "metadata": {},
   "outputs": [],
   "source": [
    "rowSums(myDF)>0"
   ]
  },
  {
   "cell_type": "markdown",
   "metadata": {},
   "source": [
    "Finally, we can apply this output to subset the `myDF` data frame by removing all rows whose values sum to zero, using the same row slicing method we used above:"
   ]
  },
  {
   "cell_type": "code",
   "execution_count": null,
   "metadata": {},
   "outputs": [],
   "source": [
    "myDF[ rowSums(myDF)>0 , ]"
   ]
  },
  {
   "cell_type": "markdown",
   "metadata": {},
   "source": [
    "Use what you've just learned to remove all rows in `myDF` whose sum is less than 20, in the next cell. "
   ]
  },
  {
   "cell_type": "code",
   "execution_count": null,
   "metadata": {},
   "outputs": [],
   "source": []
  },
  {
   "cell_type": "markdown",
   "metadata": {},
   "source": [
    "<a class=\"anchor\" id=\"dfmore\"></a>\n",
    "#### Add columns to a data frame\n",
    "\n",
    "When generating a table containing results from a bioinformatic analysis, it may be useful to add a column. To add a column to a data frame, we use the `[` bracket operator to name the new column. We then turn the new column into a variable using the `<-` operator, and we assign a list of values to that variable. \n",
    "\n",
    "To create a list of values in R, we use the `c()` function, which is a method that combines all its arguments to form a vector, or list.\n",
    "\n",
    "Run the next cell to add a 4th column to your `myDF` data frame, then print the revised data frame, `myDF`."
   ]
  },
  {
   "cell_type": "code",
   "execution_count": null,
   "metadata": {},
   "outputs": [],
   "source": [
    "myDF['column4'] <- c(1,2,3,4,5,6,7,8,9,10)\n",
    "myDF"
   ]
  },
  {
   "cell_type": "markdown",
   "metadata": {},
   "source": [
    "Use the next cell to add a 5th column to your `myDF` data frame, then print the revised data frame."
   ]
  },
  {
   "cell_type": "code",
   "execution_count": null,
   "metadata": {},
   "outputs": [],
   "source": []
  },
  {
   "cell_type": "markdown",
   "metadata": {},
   "source": [
    "<a class=\"anchor\" id=\"dfcombine\"></a>\n",
    "#### Combine data frames\n",
    "\n",
    "Sometimes in bioinformatics, we have two (or more) data frames that we want to combine into one data frame. To do this, we can use the R function `cbind()`. `cbind()` requires at least two arguments: the names of the two data frames that need to be combined.\n",
    "\n",
    "Let's duplicate `myDF` and then use `cbind()` to merge the original and duplicated data frames.\n",
    "\n",
    "Run the following cell to create a copy of `myDF` in a variable called `myDF2`, then view the contents of the `myDF2` data frame."
   ]
  },
  {
   "cell_type": "code",
   "execution_count": null,
   "metadata": {},
   "outputs": [],
   "source": [
    "myDF2 <- myDF\n",
    "myDF2"
   ]
  },
  {
   "cell_type": "markdown",
   "metadata": {},
   "source": [
    "Now that we have two data frames, `myDF` and `myDF2`, let's use `cbind()` to combine them into one data frame:"
   ]
  },
  {
   "cell_type": "code",
   "execution_count": null,
   "metadata": {},
   "outputs": [],
   "source": [
    "cbind(myDF, myDF2)"
   ]
  },
  {
   "cell_type": "markdown",
   "metadata": {},
   "source": [
    "Now, instead of merely printing the combined data frame, use the next cell to create a variable called `combinedDF` that holds the combined data frame. We suggest the `combinedDF` as a short representation of the phrase \"combined data frame\"."
   ]
  },
  {
   "cell_type": "code",
   "execution_count": null,
   "metadata": {},
   "outputs": [],
   "source": []
  },
  {
   "cell_type": "markdown",
   "metadata": {},
   "source": [
    "What are the dimensions of the `combinedDF` data frame? Hint: use the `dim()` function in the cell below."
   ]
  },
  {
   "cell_type": "code",
   "execution_count": null,
   "metadata": {},
   "outputs": [],
   "source": []
  },
  {
   "cell_type": "markdown",
   "metadata": {},
   "source": [
    "Did `cbind()` merge these data frames on the row dimension or the column dimension? Why do you think that is? Hint: you can take a look at the `cbind()` documentation using the `help()` function."
   ]
  },
  {
   "cell_type": "code",
   "execution_count": null,
   "metadata": {},
   "outputs": [],
   "source": []
  },
  {
   "cell_type": "code",
   "execution_count": null,
   "metadata": {},
   "outputs": [],
   "source": []
  },
  {
   "cell_type": "markdown",
   "metadata": {},
   "source": [
    "<a class=\"anchor\" id=\"export\"></a>\n",
    "\n",
    "## 1e. Export data from R"
   ]
  },
  {
   "cell_type": "markdown",
   "metadata": {},
   "source": [
    "<a class=\"anchor\" id=\"write\"></a>\n",
    "\n",
    "#### write.csv()\n",
    "\n",
    "Thus far, we have manipulated data frame variables in R, but the altered data is only stored in memory until you export it. How you export data in R will depend on the file type to which you want to export the data. Similar to loading data in R, R has several built-in functions for exporting common file types, including .TXT files, .CSV (comma-separated values) files and .TSV (tab-separated-values) files.\n",
    "\n",
    "In this tutorial, we will export the data as a .CSV file. To do this, we will use the `write.csv()` function to write a data frame out to a file. The following arguments are needed to execute the `write.csv()` function: \n",
    "\n",
    "* the data frame we want to write out \n",
    "* the file name we want to write to\n",
    "\n",
    "In the next cell, you will use `write.csv()` to export your `combinedDF` data frame to a file called `combinedDF.csv`."
   ]
  },
  {
   "cell_type": "code",
   "execution_count": null,
   "metadata": {},
   "outputs": [],
   "source": [
    "write.csv(combinedDF, 'combinedDF.csv')"
   ]
  },
  {
   "cell_type": "markdown",
   "metadata": {},
   "source": [
    "List all files in your current directory using the `list.files()` function:"
   ]
  },
  {
   "cell_type": "code",
   "execution_count": null,
   "metadata": {},
   "outputs": [],
   "source": [
    "list.files()"
   ]
  },
  {
   "cell_type": "markdown",
   "metadata": {},
   "source": [
    "Do you see your `combinedDF.csv` file in your current directory?\n",
    "\n",
    "Challenge: Use the next few cells to export your `myDF2` data frame as a .CSV file called `myDF2.csv` but this time, specify your home directory as the path you want to write your file to (hint: use the `homeDir` variable you created previously). Then list all files in your home directory. Did you successfully export the `myDF2.csv` file?"
   ]
  },
  {
   "cell_type": "code",
   "execution_count": null,
   "metadata": {},
   "outputs": [],
   "source": []
  },
  {
   "cell_type": "markdown",
   "metadata": {},
   "source": [
    "<a class=\"anchor\" id=\"viz\"></a>\n",
    "\n",
    "## 1f. Visualizations"
   ]
  },
  {
   "cell_type": "markdown",
   "metadata": {},
   "source": [
    "<a class=\"anchor\" id=\"plot\"></a>\n",
    "\n",
    "#### plot()\n",
    "\n",
    "R has a basic built-in function for many common plot types called `plot()`. \n",
    "\n",
    "At its most basic, the function call is: `plot(x,y)`, where x and y are numeric vectors containing the (x,y) points for the plot.\n",
    "\n",
    "Let's call `plot()` with the following parameters: \n",
    "\n",
    "* x = the values from myDF2, column 1\n",
    "* y = the values from myDF2, column 4\n",
    "\n",
    "\n",
    "We saw before that we can use the following syntax to extract just one column from a dataframe: \n",
    "`myDF2['column1']`.  But recall that this produces a subset dataframe, not a vector of numbers. \n",
    "\n",
    "If we need just the values from a column as a vector of numbers, we can use the following syntax: \n",
    "`myDF2$column1`\n",
    "> Note: The `$` specifies the column title.\n",
    "\n",
    "Use this syntax to fill in the x and y vectors in the function call below: \n"
   ]
  },
  {
   "cell_type": "code",
   "execution_count": null,
   "metadata": {},
   "outputs": [],
   "source": [
    "plot()"
   ]
  },
  {
   "cell_type": "markdown",
   "metadata": {},
   "source": [
    "Let's see if we can make this plot more interesting. Let's look at the parameters for `plot()`:"
   ]
  },
  {
   "cell_type": "code",
   "execution_count": null,
   "metadata": {},
   "outputs": [],
   "source": [
    "help(plot)"
   ]
  },
  {
   "cell_type": "markdown",
   "metadata": {},
   "source": [
    "In the next few cells, recreate this plot but pass different values to the following 2 parameters: `type` and `col`. \n",
    "\n",
    "**Challenge:** Can you create a plot with both points and lines, colored purple? "
   ]
  },
  {
   "cell_type": "code",
   "execution_count": null,
   "metadata": {},
   "outputs": [],
   "source": []
  },
  {
   "cell_type": "code",
   "execution_count": null,
   "metadata": {},
   "outputs": [],
   "source": []
  },
  {
   "cell_type": "code",
   "execution_count": null,
   "metadata": {},
   "outputs": [],
   "source": []
  },
  {
   "cell_type": "code",
   "execution_count": null,
   "metadata": {},
   "outputs": [],
   "source": []
  },
  {
   "cell_type": "code",
   "execution_count": null,
   "metadata": {},
   "outputs": [],
   "source": []
  },
  {
   "cell_type": "code",
   "execution_count": null,
   "metadata": {},
   "outputs": [],
   "source": []
  }
 ],
 "metadata": {
  "kernelspec": {
   "display_name": "R [conda env:gl4u-r]",
   "language": "R",
   "name": "conda-env-gl4u-r-r"
  },
  "language_info": {
   "codemirror_mode": "r",
   "file_extension": ".r",
   "mimetype": "text/x-r-source",
   "name": "R",
   "pygments_lexer": "r",
   "version": "4.1.1"
  },
  "toc": {
   "base_numbering": 1,
   "nav_menu": {},
   "number_sections": false,
   "sideBar": true,
   "skip_h1_title": false,
   "title_cell": "Table of Contents",
   "title_sidebar": "Contents",
   "toc_cell": false,
   "toc_position": {
    "height": "calc(100% - 180px)",
    "left": "10px",
    "top": "150px",
    "width": "165px"
   },
   "toc_section_display": true,
   "toc_window_display": true
  }
 },
 "nbformat": 4,
 "nbformat_minor": 4
}
